{
 "cells": [
  {
   "cell_type": "code",
   "execution_count": 4,
   "metadata": {},
   "outputs": [],
   "source": [
    "# Import required packages\n",
    "import os\n",
    "import gc\n",
    "import pickle\n",
    "\n",
    "import pandas as pd\n",
    "import numpy as np\n",
    "\n",
    "import matplotlib\n",
    "import matplotlib.pyplot as plt\n",
    "import seaborn as sns"
   ]
  },
  {
   "cell_type": "code",
   "execution_count": 10,
   "metadata": {},
   "outputs": [],
   "source": [
    "# Change working directory to project root\n",
    "if os.getcwd().split(\"/\")[-1] == \"notebooks\":\n",
    "    os.chdir(\"../\")\n",
    "\n",
    "# Enable garbage collection\n",
    "gc.enable()\n",
    "\n",
    "# Configure display options for Pandas\n",
    "# Options help displaying DFs w/ numerous features\n",
    "pd.set_option('display.width', 1000)\n",
    "pd.set_option('display.max_rows', 500)\n",
    "pd.set_option('display.max_columns', 500)"
   ]
  },
  {
   "cell_type": "code",
   "execution_count": 11,
   "metadata": {},
   "outputs": [
    {
     "name": "stdout",
     "output_type": "stream",
     "text": [
      "/Users/victor_naidu/GitHub/amex-default-prediction\n"
     ]
    }
   ],
   "source": [
    "\n",
    "    print(os.getcwd())"
   ]
  },
  {
   "cell_type": "code",
   "execution_count": 17,
   "metadata": {},
   "outputs": [],
   "source": [
    "def load_dataset(dataset, use_feather=True):\n",
    "# Function to load amex data\n",
    "# Raw Data - Source: American Express via Kaggle\n",
    "# Reduced  - Source: https://www.kaggle.com/datasets/munumbutt/amexfeather\n",
    "    valid_datasets = ('train', 'test', 'train_agg', 'test_agg')\n",
    "    if not isinstance(dataset, str):\n",
    "        raise TypeError\n",
    "    elif dataset not in valid_datasets:\n",
    "        raise ValueError\n",
    "    \n",
    "    fpaths = {\n",
    "        'feather': {\n",
    "            'train': './data/external/train_data.ftr',\n",
    "            'test': './data/external/test_data.ftr',\n",
    "            'train_agg': './data/interim/train_agg.ftr', \n",
    "            'test_agg': './data/interim/test_agg.ftr'},\n",
    "        'csv': {\n",
    "            'train': './data/raw/train_data.csv',\n",
    "            'test': './data/raw/test_data.csv',\n",
    "            'train_agg': './data/interim/train_agg.csv',\n",
    "            'test_agg': './data/interim/test_agg.csv'}}\n",
    "\n",
    "    if use_feather:\n",
    "        feather_file = fpaths['feather'].get(dataset)\n",
    "        return pd.read_feather(feather_file).set_index('customer_ID')\n",
    "    else:\n",
    "        csv_file = fpaths['csv'].get(dataset)\n",
    "        return pd.read_csv(csv_file, index_col='customer_ID')"
   ]
  },
  {
   "cell_type": "code",
   "execution_count": 18,
   "metadata": {},
   "outputs": [],
   "source": []
  }
 ],
 "metadata": {
  "kernelspec": {
   "display_name": "Python 3.9.12 ('base')",
   "language": "python",
   "name": "python3"
  },
  "language_info": {
   "codemirror_mode": {
    "name": "ipython",
    "version": 3
   },
   "file_extension": ".py",
   "mimetype": "text/x-python",
   "name": "python",
   "nbconvert_exporter": "python",
   "pygments_lexer": "ipython3",
   "version": "3.9.12"
  },
  "orig_nbformat": 4,
  "vscode": {
   "interpreter": {
    "hash": "6253b0757717560d5dcadf36acf1738a8f43823bd2758e22944cdc4c86c7691f"
   }
  }
 },
 "nbformat": 4,
 "nbformat_minor": 2
}
