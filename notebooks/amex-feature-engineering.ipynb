{
 "cells": [
  {
   "cell_type": "code",
   "execution_count": null,
   "metadata": {},
   "outputs": [],
   "source": [
    "# Import required packages\n",
    "import os\n",
    "import gc\n",
    "import pickle\n",
    "\n",
    "import pandas as pd\n",
    "import numpy as np\n",
    "\n",
    "import matplotlib\n",
    "import matplotlib.pyplot as plt\n",
    "import seaborn as sns"
   ]
  },
  {
   "cell_type": "code",
   "execution_count": null,
   "metadata": {},
   "outputs": [],
   "source": [
    "# Change working directory to project root\n",
    "if os.getcwd().split(\"/\")[-1] == \"notebooks\":\n",
    "    os.chdir(\"../\")\n",
    "    \n",
    "# Print the current working directory\n",
    "print(f'Current Dir: {os.getcwd()}')\n",
    "    \n",
    "# Enable garbage collection\n",
    "gc.enable()\n",
    "\n",
    "# Configure display options for Pandas\n",
    "# (*) Helpful when displaying DFs w/ numerous features\n",
    "pd.set_option(\"display.width\", 1000)\n",
    "pd.set_option(\"display.max_rows\", 500)\n",
    "pd.set_option(\"display.max_columns\", 500)"
   ]
  },
  {
   "cell_type": "code",
   "execution_count": null,
   "metadata": {},
   "outputs": [],
   "source": [
    "def load_dataset(dataset, use_feather=True):\n",
    "    # Function to load amex data\n",
    "    # Raw Data - Source: American Express via Kaggle\n",
    "    # Reduced  - Source: https://www.kaggle.com/datasets/munumbutt/amexfeather\n",
    "    valid_datasets = (\"train\", \"test\", \"train_agg\", \"test_agg\")\n",
    "    if not isinstance(dataset, str):\n",
    "        raise TypeError\n",
    "    elif dataset not in valid_datasets:\n",
    "        raise ValueError\n",
    "    fpaths = {\n",
    "        \"feather\": {\n",
    "            \"train\": \"./data/external/train_data.ftr\",\n",
    "            \"test\": \"./data/external/test_data.ftr\",\n",
    "            \"train_agg\": \"./data/interim/train_agg.ftr\",\n",
    "            \"test_agg\": \"./data/interim/test_agg.ftr\",\n",
    "        },\n",
    "        \"csv\": {\n",
    "            \"train\": \"./data/raw/train_data.csv\",\n",
    "            \"test\": \"./data/raw/test_data.csv\",\n",
    "            \"train_agg\": \"./data/interim/train_agg.csv\",\n",
    "            \"test_agg\": \"./data/interim/test_agg.csv\",\n",
    "        },\n",
    "    }\n",
    "    if use_feather:\n",
    "        feather_file = fpaths[\"feather\"].get(dataset)\n",
    "        return pd.read_feather(feather_file).set_index(\"customer_ID\")\n",
    "    else:\n",
    "        csv_file = fpaths[\"csv\"].get(dataset)\n",
    "        return pd.read_csv(csv_file, index_col=\"customer_ID\")"
   ]
  },
  {
   "cell_type": "code",
   "execution_count": null,
   "metadata": {},
   "outputs": [],
   "source": [
    "def get_incomplete_features(amex_dataset, threshold=0.85, verbose=True):\n",
    "    if not isinstance(threshold, (float, int)):\n",
    "        raise TypeError()\n",
    "    elif (threshold < 0) or (threshold > 1):\n",
    "        raise ValueError()\n",
    "    pct_incomplete = amex.isnull().sum().div(len(amex)).sort_values(ascending=False)\n",
    "    incomplete_features = set(\n",
    "        pct_incomplete[pct_incomplete >= threshold].index.tolist()\n",
    "    )\n",
    "    if verbose:\n",
    "        print(f\"Incomplete Features >= {threshold}%:\\n{incomplete_features}\")"
   ]
  },
  {
   "cell_type": "code",
   "execution_count": null,
   "metadata": {},
   "outputs": [],
   "source": [
    "\n",
   ]
  },
  {
   "cell_type": "code",
   "execution_count": null,
   "metadata": {},
   "outputs": [],
   "source": [
    "incomplete = {'D_87', 'D_88', 'D_108', 'D_110', 'D_111', 'B_39', \n",
    "              'D_73', 'B_42', 'D_134', 'D_137', 'D_135', 'D_138', \n",
    "              'D_136', 'R_9', 'B_29', 'D_106', 'D_132', 'D_49', \n",
    "              'R_26', 'D_76', 'D_66', 'D_42'}\n",
    "redundant = {'S_2'}\n",
    "target = {'target'}\n",
    "\n",
    "invalid_cols = (incomplete | redundant | target)\n",
    "to_drop = amex.columns.intersection(invalid_cols)"
   ]
  }
 ],
 "metadata": {
  "kernelspec": {
   "display_name": "Python 3.9.12 ('base')",
   "language": "python",
   "name": "python3"
  },
  "language_info": {
   "codemirror_mode": {
    "name": "ipython",
    "version": 3
   },
   "file_extension": ".py",
   "mimetype": "text/x-python",
   "name": "python",
   "nbconvert_exporter": "python",
   "pygments_lexer": "ipython3",
   "version": "3.9.12"
  },
  "orig_nbformat": 4,
  "vscode": {
   "interpreter": {
    "hash": "28ed4e3bfc6dbc0ee6f9216b9beca2c6fff623d080b9c5b8a874eb933f3db8ee"
   }
  }
 },
 "nbformat": 4,
 "nbformat_minor": 2
}
