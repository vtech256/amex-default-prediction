{
 "cells": [
  {
   "cell_type": "code",
   "execution_count": null,
   "metadata": {},
   "outputs": [],
   "source": [
    "def kaggle_submission(estimator, preprocessor, save_csv=False):\n",
    "    amex_data = load_dataset('test_agg')\n",
    "    \n",
    "    X_test = preprocessor.transform(amex_data)\n",
    "    y_pred = estimator.predict_proba(X_test)[:, 1]\n",
    "    \n",
    "    submission = pd.DataFrame({\n",
    "        'customer_ID': amex_data.index,\n",
    "        'target': y_pred})\n",
    "    \n",
    "    if save_csv:\n",
    "        submission.to_csv('data/processed/kaggle_submission.csv', index=False)\n",
    "\n",
    "    return submission"
   ]
  },
  {
   "cell_type": "code",
   "execution_count": null,
   "metadata": {},
   "outputs": [],
   "source": []
  }
 ],
 "metadata": {
  "kernelspec": {
   "display_name": "Python 3.9.12 ('base')",
   "language": "python",
   "name": "python3"
  },
  "language_info": {
   "name": "python",
   "version": "3.9.12"
  },
  "orig_nbformat": 4,
  "vscode": {
   "interpreter": {
    "hash": "6253b0757717560d5dcadf36acf1738a8f43823bd2758e22944cdc4c86c7691f"
   }
  }
 },
 "nbformat": 4,
 "nbformat_minor": 2
}
