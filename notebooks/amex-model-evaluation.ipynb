{
 "cells": [],
 "metadata": {
  "kernelspec": {
   "display_name": "Python 3.9.12 ('base')",
   "language": "python",
   "name": "python3"
  },
  "language_info": {
   "name": "python",
   "version": "3.9.12"
  },
  "orig_nbformat": 4,
  "vscode": {
   "interpreter": {
    "hash": "6253b0757717560d5dcadf36acf1738a8f43823bd2758e22944cdc4c86c7691f"
   }
  }
 },
 "nbformat": 4,
 "nbformat_minor": 2
}
