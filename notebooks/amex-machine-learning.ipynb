{
 "cells": [
  {
   "cell_type": "code",
   "execution_count": 1,
   "metadata": {},
   "outputs": [],
   "source": [
    "# Import required packages\n",
    "import os\n",
    "import gc\n",
    "import pickle\n",
    "\n",
    "import pandas as pd\n",
    "import numpy as np\n",
    "\n",
    "import matplotlib\n",
    "import matplotlib.pyplot as plt\n",
    "import seaborn as sns\n",
    "\n",
    "from sklearn.compose import ColumnTransformer\n",
    "from sklearn.ensemble import RandomForestClassifier\n",
    "from sklearn.preprocessing import LabelEncoder, OneHotEncoder, OrdinalEncoder, RobustScaler, StandardScaler\n",
    "from sklearn.pipeline import make_pipeline\n",
    "from sklearn.experimental import enable_iterative_imputer\n",
    "from sklearn.impute import SimpleImputer, IterativeImputer\n",
    "from sklearn.feature_selection import SelectFromModel, SelectKBest, SequentialFeatureSelector, VarianceThreshold\n",
    "from sklearn.linear_model import LogisticRegression\n",
    "from sklearn.metrics import make_scorer\n",
    "from sklearn.model_selection import cross_val_score, train_test_split, StratifiedKFold\n",
    "\n",
    "import xgboost as xgb"
   ]
  },
  {
   "cell_type": "code",
   "execution_count": 2,
   "metadata": {},
   "outputs": [],
   "source": [
    "# Change working directory to project root\n",
    "if os.getcwd().split(\"/\")[-1] == \"notebooks\":\n",
    "    # Change working dir to project root\n",
    "    os.chdir(\"../\")\n",
    "    \n",
    "    # Print the current working directory\n",
    "    # print(f'Current Dir: {os.getcwd()}')\n",
    "    \n",
    "# Enable garbage collection\n",
    "gc.enable()\n",
    "\n",
    "# Configure display options for Pandas\n",
    "# (*) Helpful when displaying DFs w/ numerous features\n",
    "pd.set_option(\"display.width\", 1000)\n",
    "pd.set_option(\"display.max_rows\", 500)\n",
    "pd.set_option(\"display.max_columns\", 500)"
   ]
  },
  {
   "cell_type": "code",
   "execution_count": 3,
   "metadata": {},
   "outputs": [],
   "source": [
    "%run notebooks/amex-feature-engineering.ipynb import load_dataset, features_dict"
   ]
  },
  {
   "cell_type": "code",
   "execution_count": 4,
   "metadata": {},
   "outputs": [],
   "source": [
    "# https://www.kaggle.com/kyakovlev\n",
    "# https://www.kaggle.com/competitions/amex-default-prediction/discussion/327534\n",
    "def amex_score(y_true, y_pred):\n",
    "\n",
    "    labels     = np.transpose(np.array([y_true, y_pred]))\n",
    "    labels     = labels[labels[:, 1].argsort()[::-1]]\n",
    "    weights    = np.where(labels[:,0]==0, 20, 1)\n",
    "    cut_vals   = labels[np.cumsum(weights) <= int(0.04 * np.sum(weights))]\n",
    "    top_four   = np.sum(cut_vals[:,0]) / np.sum(labels[:,0])\n",
    "\n",
    "    gini = [0,0]\n",
    "    for i in [1,0]:\n",
    "        labels         = np.transpose(np.array([y_true, y_pred]))\n",
    "        labels         = labels[labels[:, i].argsort()[::-1]]\n",
    "        weight         = np.where(labels[:,0]==0, 20, 1)\n",
    "        weight_random  = np.cumsum(weight / np.sum(weight))\n",
    "        total_pos      = np.sum(labels[:, 0] *  weight)\n",
    "        cum_pos_found  = np.cumsum(labels[:, 0] * weight)\n",
    "        lorentz        = cum_pos_found / total_pos\n",
    "        gini[i]        = np.sum((lorentz - weight_random) * weight)\n",
    "\n",
    "    return 0.5 * (gini[1]/gini[0] + top_four)\n",
    "\n",
    "\n",
    "def xgb__amex_metric(labels, predt):\n",
    "    score = 1 - amex_score(labels, predt)\n",
    "    return score"
   ]
  },
  {
   "cell_type": "code",
   "execution_count": 5,
   "metadata": {},
   "outputs": [],
   "source": [
    "def make_preprocessor(X_train):\n",
    "    features = features_dict(X_train)\n",
    "\n",
    "    numeric_preprocessor = make_pipeline(\n",
    "        SimpleImputer(strategy='median', add_indicator=True))\n",
    "\n",
    "    categorical_preprocessor = make_pipeline(\n",
    "        SimpleImputer(strategy='most_frequent', add_indicator=True),\n",
    "        OneHotEncoder(handle_unknown='ignore', sparse=False))\n",
    "\n",
    "    ordinal_preprocessor = make_pipeline(\n",
    "        SimpleImputer(strategy='constant', fill_value=-1, add_indicator=True),\n",
    "        OrdinalEncoder(handle_unknown=\"use_encoded_value\", unknown_value=-11))\n",
    "\n",
    "    feature_preprocessor = ColumnTransformer([\n",
    "            ('numeric', numeric_preprocessor, features['numeric']),\n",
    "            ('categorical', categorical_preprocessor, features['categorical'])\n",
    "        ], verbose_feature_names_out=True)\n",
    "\n",
    "    feature_selector = SelectFromModel(\n",
    "        RandomForestClassifier(\n",
    "            n_estimators=25,\n",
    "            random_state=1123), \n",
    "        max_features=750)\n",
    "\n",
    "    preprocessor_pipeline = make_pipeline(\n",
    "        feature_preprocessor)\n",
    "    \n",
    "    return preprocessor_pipeline"
   ]
  },
  {
   "cell_type": "code",
   "execution_count": 25,
   "metadata": {},
   "outputs": [
    {
     "name": "stdout",
     "output_type": "stream",
     "text": [
      "XGB Version: 1.6.1\n"
     ]
    }
   ],
   "source": [
    "# Print version of XGBoost used\n",
    "print(f'XGB Version: {xgb.__version__}')\n",
    "\n",
    "# Instantiate the XGBClassifier\n",
    "xgb_clf = xgb.XGBClassifier(\n",
    "    objective='binary:logistic',\n",
    "    booster='dart',\n",
    "    use_label_encoder=False,\n",
    "    max_depth=7,\n",
    "    early_stopping_rounds=5,\n",
    "    subsample=0.88,\n",
    "    colsample_bytree=0.72,\n",
    "    n_estimators=128,\n",
    "    learning_rate=0.32,\n",
    "    feval=amex_score,\n",
    "    eval_metric=xgb__amex_metric,\n",
    "    verbosity=3,\n",
    "    seed=1123, n_jobs=-1)"
   ]
  },
  {
   "cell_type": "code",
   "execution_count": 7,
   "metadata": {},
   "outputs": [],
   "source": [
    "amex_train__agg = load_dataset('train_agg', use_feather=True)"
   ]
  },
  {
   "cell_type": "code",
   "execution_count": 8,
   "metadata": {},
   "outputs": [
    {
     "data": {
      "text/plain": [
       "0"
      ]
     },
     "execution_count": 8,
     "metadata": {},
     "output_type": "execute_result"
    }
   ],
   "source": [
    "X_train, X_test, y_train, y_test = train_test_split(\n",
    "    amex_train__agg.drop('target', axis=1), \n",
    "    amex_train__agg.target,\n",
    "    stratify=amex_train__agg.target,\n",
    "    test_size=0.20,\n",
    "    random_state=1123)\n",
    "\n",
    "del amex_train__agg\n",
    "gc.collect()"
   ]
  },
  {
   "cell_type": "code",
   "execution_count": 9,
   "metadata": {},
   "outputs": [
    {
     "name": "stdout",
     "output_type": "stream",
     "text": [
      "Numeric Features - Count(#): 1424\n",
      "Categorical Features - Count(#): 20\n",
      "Ordinal Features - Count(#): 0\n"
     ]
    }
   ],
   "source": [
    "feature_preprocessor = make_preprocessor(X_train)\n",
    "\n",
    "feature_preprocessor.fit(X_train, y_train)\n",
    "\n",
    "X_train__preprocessed = feature_preprocessor.transform(X_train)\n",
    "X_test__preprocessed = feature_preprocessor.transform(X_test)"
   ]
  },
  {
   "cell_type": "code",
   "execution_count": 26,
   "metadata": {},
   "outputs": [
    {
     "name": "stdout",
     "output_type": "stream",
     "text": [
      "[16:52:11] DEBUG: /home/conda/feedstock_root/build_artifacts/xgboost-split_1660208814268/work/src/gbm/gbtree.cc:155: Using tree method: 2\n",
      "[16:52:48] INFO: /home/conda/feedstock_root/build_artifacts/xgboost-split_1660208814268/work/src/tree/updater_prune.cc:101: tree pruning end, 244 extra nodes, 0 pruned nodes, max_depth=7\n",
      "[16:52:48] INFO: /home/conda/feedstock_root/build_artifacts/xgboost-split_1660208814268/work/src/gbm/gbtree.cc:909: drop 0 trees, weight = 1\n",
      "[0]\tvalidation_0-logloss:0.51491\tvalidation_0-xgb__amex_metric:0.29418\n",
      "[16:53:03] INFO: /home/conda/feedstock_root/build_artifacts/xgboost-split_1660208814268/work/src/tree/updater_prune.cc:101: tree pruning end, 240 extra nodes, 0 pruned nodes, max_depth=7\n",
      "[16:53:03] INFO: /home/conda/feedstock_root/build_artifacts/xgboost-split_1660208814268/work/src/gbm/gbtree.cc:909: drop 0 trees, weight = 1\n",
      "[1]\tvalidation_0-logloss:0.41860\tvalidation_0-xgb__amex_metric:0.27603\n",
      "[16:53:20] INFO: /home/conda/feedstock_root/build_artifacts/xgboost-split_1660208814268/work/src/tree/updater_prune.cc:101: tree pruning end, 240 extra nodes, 0 pruned nodes, max_depth=7\n",
      "[16:53:20] INFO: /home/conda/feedstock_root/build_artifacts/xgboost-split_1660208814268/work/src/gbm/gbtree.cc:909: drop 0 trees, weight = 1\n",
      "[2]\tvalidation_0-logloss:0.36011\tvalidation_0-xgb__amex_metric:0.26535\n",
      "[16:53:39] INFO: /home/conda/feedstock_root/build_artifacts/xgboost-split_1660208814268/work/src/tree/updater_prune.cc:101: tree pruning end, 250 extra nodes, 0 pruned nodes, max_depth=7\n",
      "[16:53:39] INFO: /home/conda/feedstock_root/build_artifacts/xgboost-split_1660208814268/work/src/gbm/gbtree.cc:909: drop 0 trees, weight = 1\n",
      "[3]\tvalidation_0-logloss:0.32238\tvalidation_0-xgb__amex_metric:0.25955\n",
      "[16:53:59] INFO: /home/conda/feedstock_root/build_artifacts/xgboost-split_1660208814268/work/src/tree/updater_prune.cc:101: tree pruning end, 248 extra nodes, 0 pruned nodes, max_depth=7\n",
      "[16:53:59] INFO: /home/conda/feedstock_root/build_artifacts/xgboost-split_1660208814268/work/src/gbm/gbtree.cc:909: drop 0 trees, weight = 1\n",
      "[4]\tvalidation_0-logloss:0.29701\tvalidation_0-xgb__amex_metric:0.25408\n",
      "[16:54:22] INFO: /home/conda/feedstock_root/build_artifacts/xgboost-split_1660208814268/work/src/tree/updater_prune.cc:101: tree pruning end, 250 extra nodes, 0 pruned nodes, max_depth=7\n",
      "[16:54:22] INFO: /home/conda/feedstock_root/build_artifacts/xgboost-split_1660208814268/work/src/gbm/gbtree.cc:909: drop 0 trees, weight = 1\n",
      "[5]\tvalidation_0-logloss:0.27946\tvalidation_0-xgb__amex_metric:0.25088\n",
      "[16:54:46] INFO: /home/conda/feedstock_root/build_artifacts/xgboost-split_1660208814268/work/src/tree/updater_prune.cc:101: tree pruning end, 240 extra nodes, 0 pruned nodes, max_depth=7\n",
      "[16:54:46] INFO: /home/conda/feedstock_root/build_artifacts/xgboost-split_1660208814268/work/src/gbm/gbtree.cc:909: drop 0 trees, weight = 1\n",
      "[6]\tvalidation_0-logloss:0.26751\tvalidation_0-xgb__amex_metric:0.24815\n",
      "[16:55:11] INFO: /home/conda/feedstock_root/build_artifacts/xgboost-split_1660208814268/work/src/tree/updater_prune.cc:101: tree pruning end, 232 extra nodes, 0 pruned nodes, max_depth=7\n",
      "[16:55:11] INFO: /home/conda/feedstock_root/build_artifacts/xgboost-split_1660208814268/work/src/gbm/gbtree.cc:909: drop 0 trees, weight = 1\n",
      "[7]\tvalidation_0-logloss:0.25871\tvalidation_0-xgb__amex_metric:0.24543\n",
      "[16:55:38] INFO: /home/conda/feedstock_root/build_artifacts/xgboost-split_1660208814268/work/src/tree/updater_prune.cc:101: tree pruning end, 250 extra nodes, 0 pruned nodes, max_depth=7\n",
      "[16:55:38] INFO: /home/conda/feedstock_root/build_artifacts/xgboost-split_1660208814268/work/src/gbm/gbtree.cc:909: drop 0 trees, weight = 1\n",
      "[8]\tvalidation_0-logloss:0.25228\tvalidation_0-xgb__amex_metric:0.24358\n",
      "[16:56:07] INFO: /home/conda/feedstock_root/build_artifacts/xgboost-split_1660208814268/work/src/tree/updater_prune.cc:101: tree pruning end, 226 extra nodes, 0 pruned nodes, max_depth=7\n",
      "[16:56:07] INFO: /home/conda/feedstock_root/build_artifacts/xgboost-split_1660208814268/work/src/gbm/gbtree.cc:909: drop 0 trees, weight = 1\n",
      "[9]\tvalidation_0-logloss:0.24770\tvalidation_0-xgb__amex_metric:0.24024\n",
      "[16:56:36] INFO: /home/conda/feedstock_root/build_artifacts/xgboost-split_1660208814268/work/src/tree/updater_prune.cc:101: tree pruning end, 212 extra nodes, 0 pruned nodes, max_depth=7\n",
      "[16:56:36] INFO: /home/conda/feedstock_root/build_artifacts/xgboost-split_1660208814268/work/src/gbm/gbtree.cc:909: drop 0 trees, weight = 1\n",
      "[10]\tvalidation_0-logloss:0.24399\tvalidation_0-xgb__amex_metric:0.23876\n",
      "[16:57:06] INFO: /home/conda/feedstock_root/build_artifacts/xgboost-split_1660208814268/work/src/tree/updater_prune.cc:101: tree pruning end, 186 extra nodes, 0 pruned nodes, max_depth=7\n",
      "[16:57:06] INFO: /home/conda/feedstock_root/build_artifacts/xgboost-split_1660208814268/work/src/gbm/gbtree.cc:909: drop 0 trees, weight = 1\n",
      "[11]\tvalidation_0-logloss:0.24170\tvalidation_0-xgb__amex_metric:0.23815\n",
      "[16:57:40] INFO: /home/conda/feedstock_root/build_artifacts/xgboost-split_1660208814268/work/src/tree/updater_prune.cc:101: tree pruning end, 228 extra nodes, 0 pruned nodes, max_depth=7\n",
      "[16:57:40] INFO: /home/conda/feedstock_root/build_artifacts/xgboost-split_1660208814268/work/src/gbm/gbtree.cc:909: drop 0 trees, weight = 1\n",
      "[12]\tvalidation_0-logloss:0.23982\tvalidation_0-xgb__amex_metric:0.23769\n",
      "[16:58:16] INFO: /home/conda/feedstock_root/build_artifacts/xgboost-split_1660208814268/work/src/tree/updater_prune.cc:101: tree pruning end, 216 extra nodes, 0 pruned nodes, max_depth=7\n",
      "[16:58:16] INFO: /home/conda/feedstock_root/build_artifacts/xgboost-split_1660208814268/work/src/gbm/gbtree.cc:909: drop 0 trees, weight = 1\n",
      "[13]\tvalidation_0-logloss:0.23854\tvalidation_0-xgb__amex_metric:0.23599\n",
      "[16:58:54] INFO: /home/conda/feedstock_root/build_artifacts/xgboost-split_1660208814268/work/src/tree/updater_prune.cc:101: tree pruning end, 242 extra nodes, 0 pruned nodes, max_depth=7\n",
      "[16:58:54] INFO: /home/conda/feedstock_root/build_artifacts/xgboost-split_1660208814268/work/src/gbm/gbtree.cc:909: drop 0 trees, weight = 1\n",
      "[14]\tvalidation_0-logloss:0.23734\tvalidation_0-xgb__amex_metric:0.23644\n",
      "[16:59:31] INFO: /home/conda/feedstock_root/build_artifacts/xgboost-split_1660208814268/work/src/tree/updater_prune.cc:101: tree pruning end, 238 extra nodes, 0 pruned nodes, max_depth=7\n",
      "[16:59:31] INFO: /home/conda/feedstock_root/build_artifacts/xgboost-split_1660208814268/work/src/gbm/gbtree.cc:909: drop 0 trees, weight = 1\n",
      "[15]\tvalidation_0-logloss:0.23646\tvalidation_0-xgb__amex_metric:0.23537\n",
      "[17:00:12] INFO: /home/conda/feedstock_root/build_artifacts/xgboost-split_1660208814268/work/src/tree/updater_prune.cc:101: tree pruning end, 240 extra nodes, 0 pruned nodes, max_depth=7\n",
      "[17:00:12] INFO: /home/conda/feedstock_root/build_artifacts/xgboost-split_1660208814268/work/src/gbm/gbtree.cc:909: drop 0 trees, weight = 1\n",
      "[16]\tvalidation_0-logloss:0.23562\tvalidation_0-xgb__amex_metric:0.23430\n",
      "[17:00:54] INFO: /home/conda/feedstock_root/build_artifacts/xgboost-split_1660208814268/work/src/tree/updater_prune.cc:101: tree pruning end, 248 extra nodes, 0 pruned nodes, max_depth=7\n",
      "[17:00:54] INFO: /home/conda/feedstock_root/build_artifacts/xgboost-split_1660208814268/work/src/gbm/gbtree.cc:909: drop 0 trees, weight = 1\n",
      "[17]\tvalidation_0-logloss:0.23512\tvalidation_0-xgb__amex_metric:0.23379\n",
      "[17:01:36] INFO: /home/conda/feedstock_root/build_artifacts/xgboost-split_1660208814268/work/src/tree/updater_prune.cc:101: tree pruning end, 240 extra nodes, 0 pruned nodes, max_depth=7\n",
      "[17:01:36] INFO: /home/conda/feedstock_root/build_artifacts/xgboost-split_1660208814268/work/src/gbm/gbtree.cc:909: drop 0 trees, weight = 1\n",
      "[18]\tvalidation_0-logloss:0.23446\tvalidation_0-xgb__amex_metric:0.23355\n",
      "[17:02:21] INFO: /home/conda/feedstock_root/build_artifacts/xgboost-split_1660208814268/work/src/tree/updater_prune.cc:101: tree pruning end, 234 extra nodes, 0 pruned nodes, max_depth=7\n",
      "[17:02:21] INFO: /home/conda/feedstock_root/build_artifacts/xgboost-split_1660208814268/work/src/gbm/gbtree.cc:909: drop 0 trees, weight = 1\n",
      "[19]\tvalidation_0-logloss:0.23396\tvalidation_0-xgb__amex_metric:0.23281\n",
      "[17:03:07] INFO: /home/conda/feedstock_root/build_artifacts/xgboost-split_1660208814268/work/src/tree/updater_prune.cc:101: tree pruning end, 220 extra nodes, 0 pruned nodes, max_depth=7\n",
      "[17:03:07] INFO: /home/conda/feedstock_root/build_artifacts/xgboost-split_1660208814268/work/src/gbm/gbtree.cc:909: drop 0 trees, weight = 1\n",
      "[20]\tvalidation_0-logloss:0.23367\tvalidation_0-xgb__amex_metric:0.23292\n",
      "[17:03:53] INFO: /home/conda/feedstock_root/build_artifacts/xgboost-split_1660208814268/work/src/tree/updater_prune.cc:101: tree pruning end, 228 extra nodes, 0 pruned nodes, max_depth=7\n",
      "[17:03:53] INFO: /home/conda/feedstock_root/build_artifacts/xgboost-split_1660208814268/work/src/gbm/gbtree.cc:909: drop 0 trees, weight = 1\n",
      "[21]\tvalidation_0-logloss:0.23343\tvalidation_0-xgb__amex_metric:0.23267\n",
      "[17:04:43] INFO: /home/conda/feedstock_root/build_artifacts/xgboost-split_1660208814268/work/src/tree/updater_prune.cc:101: tree pruning end, 244 extra nodes, 0 pruned nodes, max_depth=7\n",
      "[17:04:43] INFO: /home/conda/feedstock_root/build_artifacts/xgboost-split_1660208814268/work/src/gbm/gbtree.cc:909: drop 0 trees, weight = 1\n",
      "[22]\tvalidation_0-logloss:0.23302\tvalidation_0-xgb__amex_metric:0.23181\n",
      "[17:05:35] INFO: /home/conda/feedstock_root/build_artifacts/xgboost-split_1660208814268/work/src/tree/updater_prune.cc:101: tree pruning end, 228 extra nodes, 0 pruned nodes, max_depth=7\n",
      "[17:05:35] INFO: /home/conda/feedstock_root/build_artifacts/xgboost-split_1660208814268/work/src/gbm/gbtree.cc:909: drop 0 trees, weight = 1\n",
      "[23]\tvalidation_0-logloss:0.23270\tvalidation_0-xgb__amex_metric:0.23112\n",
      "[17:06:26] INFO: /home/conda/feedstock_root/build_artifacts/xgboost-split_1660208814268/work/src/tree/updater_prune.cc:101: tree pruning end, 232 extra nodes, 0 pruned nodes, max_depth=7\n",
      "[17:06:26] INFO: /home/conda/feedstock_root/build_artifacts/xgboost-split_1660208814268/work/src/gbm/gbtree.cc:909: drop 0 trees, weight = 1\n",
      "[24]\tvalidation_0-logloss:0.23249\tvalidation_0-xgb__amex_metric:0.23165\n",
      "[17:07:18] INFO: /home/conda/feedstock_root/build_artifacts/xgboost-split_1660208814268/work/src/tree/updater_prune.cc:101: tree pruning end, 212 extra nodes, 0 pruned nodes, max_depth=7\n",
      "[17:07:18] INFO: /home/conda/feedstock_root/build_artifacts/xgboost-split_1660208814268/work/src/gbm/gbtree.cc:909: drop 0 trees, weight = 1\n",
      "[25]\tvalidation_0-logloss:0.23228\tvalidation_0-xgb__amex_metric:0.23233\n",
      "[17:08:13] INFO: /home/conda/feedstock_root/build_artifacts/xgboost-split_1660208814268/work/src/tree/updater_prune.cc:101: tree pruning end, 198 extra nodes, 0 pruned nodes, max_depth=7\n",
      "[17:08:13] INFO: /home/conda/feedstock_root/build_artifacts/xgboost-split_1660208814268/work/src/gbm/gbtree.cc:909: drop 0 trees, weight = 1\n",
      "[26]\tvalidation_0-logloss:0.23203\tvalidation_0-xgb__amex_metric:0.23164\n",
      "[17:09:09] INFO: /home/conda/feedstock_root/build_artifacts/xgboost-split_1660208814268/work/src/tree/updater_prune.cc:101: tree pruning end, 196 extra nodes, 0 pruned nodes, max_depth=7\n",
      "[17:09:09] INFO: /home/conda/feedstock_root/build_artifacts/xgboost-split_1660208814268/work/src/gbm/gbtree.cc:909: drop 0 trees, weight = 1\n",
      "[27]\tvalidation_0-logloss:0.23178\tvalidation_0-xgb__amex_metric:0.23121\n",
      "[17:10:08] INFO: /home/conda/feedstock_root/build_artifacts/xgboost-split_1660208814268/work/src/tree/updater_prune.cc:101: tree pruning end, 226 extra nodes, 0 pruned nodes, max_depth=7\n",
      "[17:10:08] INFO: /home/conda/feedstock_root/build_artifacts/xgboost-split_1660208814268/work/src/gbm/gbtree.cc:909: drop 0 trees, weight = 1\n",
      "[28]\tvalidation_0-logloss:0.23168\tvalidation_0-xgb__amex_metric:0.23003\n",
      "[17:11:08] INFO: /home/conda/feedstock_root/build_artifacts/xgboost-split_1660208814268/work/src/tree/updater_prune.cc:101: tree pruning end, 192 extra nodes, 0 pruned nodes, max_depth=7\n",
      "[17:11:08] INFO: /home/conda/feedstock_root/build_artifacts/xgboost-split_1660208814268/work/src/gbm/gbtree.cc:909: drop 0 trees, weight = 1\n",
      "[29]\tvalidation_0-logloss:0.23163\tvalidation_0-xgb__amex_metric:0.23033\n",
      "[17:12:09] INFO: /home/conda/feedstock_root/build_artifacts/xgboost-split_1660208814268/work/src/tree/updater_prune.cc:101: tree pruning end, 246 extra nodes, 0 pruned nodes, max_depth=7\n",
      "[17:12:09] INFO: /home/conda/feedstock_root/build_artifacts/xgboost-split_1660208814268/work/src/gbm/gbtree.cc:909: drop 0 trees, weight = 1\n",
      "[30]\tvalidation_0-logloss:0.23173\tvalidation_0-xgb__amex_metric:0.23078\n",
      "[17:13:12] INFO: /home/conda/feedstock_root/build_artifacts/xgboost-split_1660208814268/work/src/tree/updater_prune.cc:101: tree pruning end, 164 extra nodes, 0 pruned nodes, max_depth=7\n",
      "[17:13:12] INFO: /home/conda/feedstock_root/build_artifacts/xgboost-split_1660208814268/work/src/gbm/gbtree.cc:909: drop 0 trees, weight = 1\n",
      "[31]\tvalidation_0-logloss:0.23167\tvalidation_0-xgb__amex_metric:0.22982\n",
      "[17:14:16] INFO: /home/conda/feedstock_root/build_artifacts/xgboost-split_1660208814268/work/src/tree/updater_prune.cc:101: tree pruning end, 218 extra nodes, 0 pruned nodes, max_depth=7\n",
      "[17:14:16] INFO: /home/conda/feedstock_root/build_artifacts/xgboost-split_1660208814268/work/src/gbm/gbtree.cc:909: drop 0 trees, weight = 1\n",
      "[32]\tvalidation_0-logloss:0.23171\tvalidation_0-xgb__amex_metric:0.23030\n",
      "[17:15:22] INFO: /home/conda/feedstock_root/build_artifacts/xgboost-split_1660208814268/work/src/tree/updater_prune.cc:101: tree pruning end, 202 extra nodes, 0 pruned nodes, max_depth=7\n",
      "[17:15:22] INFO: /home/conda/feedstock_root/build_artifacts/xgboost-split_1660208814268/work/src/gbm/gbtree.cc:909: drop 0 trees, weight = 1\n",
      "[33]\tvalidation_0-logloss:0.23160\tvalidation_0-xgb__amex_metric:0.22997\n",
      "[17:16:29] INFO: /home/conda/feedstock_root/build_artifacts/xgboost-split_1660208814268/work/src/tree/updater_prune.cc:101: tree pruning end, 180 extra nodes, 0 pruned nodes, max_depth=7\n",
      "[17:16:29] INFO: /home/conda/feedstock_root/build_artifacts/xgboost-split_1660208814268/work/src/gbm/gbtree.cc:909: drop 0 trees, weight = 1\n",
      "[34]\tvalidation_0-logloss:0.23167\tvalidation_0-xgb__amex_metric:0.22896\n",
      "[17:17:36] INFO: /home/conda/feedstock_root/build_artifacts/xgboost-split_1660208814268/work/src/tree/updater_prune.cc:101: tree pruning end, 202 extra nodes, 0 pruned nodes, max_depth=7\n",
      "[17:17:36] INFO: /home/conda/feedstock_root/build_artifacts/xgboost-split_1660208814268/work/src/gbm/gbtree.cc:909: drop 0 trees, weight = 1\n",
      "[35]\tvalidation_0-logloss:0.23153\tvalidation_0-xgb__amex_metric:0.22922\n",
      "[17:18:46] INFO: /home/conda/feedstock_root/build_artifacts/xgboost-split_1660208814268/work/src/tree/updater_prune.cc:101: tree pruning end, 220 extra nodes, 0 pruned nodes, max_depth=7\n",
      "[17:18:46] INFO: /home/conda/feedstock_root/build_artifacts/xgboost-split_1660208814268/work/src/gbm/gbtree.cc:909: drop 0 trees, weight = 1\n",
      "[36]\tvalidation_0-logloss:0.23156\tvalidation_0-xgb__amex_metric:0.22933\n",
      "[17:19:57] INFO: /home/conda/feedstock_root/build_artifacts/xgboost-split_1660208814268/work/src/tree/updater_prune.cc:101: tree pruning end, 212 extra nodes, 0 pruned nodes, max_depth=7\n",
      "[17:19:57] INFO: /home/conda/feedstock_root/build_artifacts/xgboost-split_1660208814268/work/src/gbm/gbtree.cc:909: drop 0 trees, weight = 1\n",
      "[37]\tvalidation_0-logloss:0.23149\tvalidation_0-xgb__amex_metric:0.22852\n",
      "[17:21:10] INFO: /home/conda/feedstock_root/build_artifacts/xgboost-split_1660208814268/work/src/tree/updater_prune.cc:101: tree pruning end, 220 extra nodes, 0 pruned nodes, max_depth=7\n",
      "[17:21:10] INFO: /home/conda/feedstock_root/build_artifacts/xgboost-split_1660208814268/work/src/gbm/gbtree.cc:909: drop 0 trees, weight = 1\n",
      "[38]\tvalidation_0-logloss:0.23160\tvalidation_0-xgb__amex_metric:0.22820\n",
      "[17:22:25] INFO: /home/conda/feedstock_root/build_artifacts/xgboost-split_1660208814268/work/src/tree/updater_prune.cc:101: tree pruning end, 198 extra nodes, 0 pruned nodes, max_depth=7\n",
      "[17:22:25] INFO: /home/conda/feedstock_root/build_artifacts/xgboost-split_1660208814268/work/src/gbm/gbtree.cc:909: drop 0 trees, weight = 1\n",
      "[39]\tvalidation_0-logloss:0.23152\tvalidation_0-xgb__amex_metric:0.22815\n",
      "[17:23:41] INFO: /home/conda/feedstock_root/build_artifacts/xgboost-split_1660208814268/work/src/tree/updater_prune.cc:101: tree pruning end, 228 extra nodes, 0 pruned nodes, max_depth=7\n",
      "[17:23:41] INFO: /home/conda/feedstock_root/build_artifacts/xgboost-split_1660208814268/work/src/gbm/gbtree.cc:909: drop 0 trees, weight = 1\n",
      "[40]\tvalidation_0-logloss:0.23159\tvalidation_0-xgb__amex_metric:0.22731\n",
      "[17:24:59] INFO: /home/conda/feedstock_root/build_artifacts/xgboost-split_1660208814268/work/src/tree/updater_prune.cc:101: tree pruning end, 200 extra nodes, 0 pruned nodes, max_depth=7\n",
      "[17:24:59] INFO: /home/conda/feedstock_root/build_artifacts/xgboost-split_1660208814268/work/src/gbm/gbtree.cc:909: drop 0 trees, weight = 1\n",
      "[41]\tvalidation_0-logloss:0.23163\tvalidation_0-xgb__amex_metric:0.22755\n",
      "[17:26:20] INFO: /home/conda/feedstock_root/build_artifacts/xgboost-split_1660208814268/work/src/tree/updater_prune.cc:101: tree pruning end, 242 extra nodes, 0 pruned nodes, max_depth=7\n",
      "[17:26:20] INFO: /home/conda/feedstock_root/build_artifacts/xgboost-split_1660208814268/work/src/gbm/gbtree.cc:909: drop 0 trees, weight = 1\n",
      "[42]\tvalidation_0-logloss:0.23157\tvalidation_0-xgb__amex_metric:0.22847\n",
      "[17:27:40] INFO: /home/conda/feedstock_root/build_artifacts/xgboost-split_1660208814268/work/src/tree/updater_prune.cc:101: tree pruning end, 210 extra nodes, 0 pruned nodes, max_depth=7\n",
      "[17:27:40] INFO: /home/conda/feedstock_root/build_artifacts/xgboost-split_1660208814268/work/src/gbm/gbtree.cc:909: drop 0 trees, weight = 1\n",
      "[43]\tvalidation_0-logloss:0.23153\tvalidation_0-xgb__amex_metric:0.22873\n",
      "[17:29:03] INFO: /home/conda/feedstock_root/build_artifacts/xgboost-split_1660208814268/work/src/tree/updater_prune.cc:101: tree pruning end, 216 extra nodes, 0 pruned nodes, max_depth=7\n",
      "[17:29:03] INFO: /home/conda/feedstock_root/build_artifacts/xgboost-split_1660208814268/work/src/gbm/gbtree.cc:909: drop 0 trees, weight = 1\n",
      "[44]\tvalidation_0-logloss:0.23155\tvalidation_0-xgb__amex_metric:0.22898\n",
      "[17:30:27] INFO: /home/conda/feedstock_root/build_artifacts/xgboost-split_1660208814268/work/src/tree/updater_prune.cc:101: tree pruning end, 158 extra nodes, 0 pruned nodes, max_depth=7\n",
      "[17:30:27] INFO: /home/conda/feedstock_root/build_artifacts/xgboost-split_1660208814268/work/src/gbm/gbtree.cc:909: drop 0 trees, weight = 1\n",
      "[45]\tvalidation_0-logloss:0.23157\tvalidation_0-xgb__amex_metric:0.22915\n",
      "[17:30:52] ======== Monitor (0): Learner ========\n",
      "[17:30:52] Configure: 0.056639s, 1 calls @ 56639us\n",
      "\n",
      "[17:30:52] EvalOneIter: 292.725s, 46 calls @ 292725000us\n",
      "\n",
      "[17:30:52] GetGradient: 0.097327s, 46 calls @ 97327us\n",
      "\n",
      "[17:30:52] PredictRaw: 1101.3s, 46 calls @ 1101296182us\n",
      "\n",
      "[17:30:52] UpdateOneIter: 1735.02s, 46 calls @ 1735020455us\n",
      "\n",
      "[17:30:52] ======== Monitor (0): GBTree ========\n",
      "[17:30:52] BoostNewTrees: 633.588s, 46 calls @ 633588000us\n",
      "\n",
      "[17:30:52] ======== Monitor (0): TreePruner ========\n",
      "[17:30:52] PrunerUpdate: 0.046142s, 46 calls @ 46142us\n",
      "\n"
     ]
    },
    {
     "data": {
      "text/html": [
       "<style>#sk-container-id-2 {color: black;background-color: white;}#sk-container-id-2 pre{padding: 0;}#sk-container-id-2 div.sk-toggleable {background-color: white;}#sk-container-id-2 label.sk-toggleable__label {cursor: pointer;display: block;width: 100%;margin-bottom: 0;padding: 0.3em;box-sizing: border-box;text-align: center;}#sk-container-id-2 label.sk-toggleable__label-arrow:before {content: \"▸\";float: left;margin-right: 0.25em;color: #696969;}#sk-container-id-2 label.sk-toggleable__label-arrow:hover:before {color: black;}#sk-container-id-2 div.sk-estimator:hover label.sk-toggleable__label-arrow:before {color: black;}#sk-container-id-2 div.sk-toggleable__content {max-height: 0;max-width: 0;overflow: hidden;text-align: left;background-color: #f0f8ff;}#sk-container-id-2 div.sk-toggleable__content pre {margin: 0.2em;color: black;border-radius: 0.25em;background-color: #f0f8ff;}#sk-container-id-2 input.sk-toggleable__control:checked~div.sk-toggleable__content {max-height: 200px;max-width: 100%;overflow: auto;}#sk-container-id-2 input.sk-toggleable__control:checked~label.sk-toggleable__label-arrow:before {content: \"▾\";}#sk-container-id-2 div.sk-estimator input.sk-toggleable__control:checked~label.sk-toggleable__label {background-color: #d4ebff;}#sk-container-id-2 div.sk-label input.sk-toggleable__control:checked~label.sk-toggleable__label {background-color: #d4ebff;}#sk-container-id-2 input.sk-hidden--visually {border: 0;clip: rect(1px 1px 1px 1px);clip: rect(1px, 1px, 1px, 1px);height: 1px;margin: -1px;overflow: hidden;padding: 0;position: absolute;width: 1px;}#sk-container-id-2 div.sk-estimator {font-family: monospace;background-color: #f0f8ff;border: 1px dotted black;border-radius: 0.25em;box-sizing: border-box;margin-bottom: 0.5em;}#sk-container-id-2 div.sk-estimator:hover {background-color: #d4ebff;}#sk-container-id-2 div.sk-parallel-item::after {content: \"\";width: 100%;border-bottom: 1px solid gray;flex-grow: 1;}#sk-container-id-2 div.sk-label:hover label.sk-toggleable__label {background-color: #d4ebff;}#sk-container-id-2 div.sk-serial::before {content: \"\";position: absolute;border-left: 1px solid gray;box-sizing: border-box;top: 0;bottom: 0;left: 50%;z-index: 0;}#sk-container-id-2 div.sk-serial {display: flex;flex-direction: column;align-items: center;background-color: white;padding-right: 0.2em;padding-left: 0.2em;position: relative;}#sk-container-id-2 div.sk-item {position: relative;z-index: 1;}#sk-container-id-2 div.sk-parallel {display: flex;align-items: stretch;justify-content: center;background-color: white;position: relative;}#sk-container-id-2 div.sk-item::before, #sk-container-id-2 div.sk-parallel-item::before {content: \"\";position: absolute;border-left: 1px solid gray;box-sizing: border-box;top: 0;bottom: 0;left: 50%;z-index: -1;}#sk-container-id-2 div.sk-parallel-item {display: flex;flex-direction: column;z-index: 1;position: relative;background-color: white;}#sk-container-id-2 div.sk-parallel-item:first-child::after {align-self: flex-end;width: 50%;}#sk-container-id-2 div.sk-parallel-item:last-child::after {align-self: flex-start;width: 50%;}#sk-container-id-2 div.sk-parallel-item:only-child::after {width: 0;}#sk-container-id-2 div.sk-dashed-wrapped {border: 1px dashed gray;margin: 0 0.4em 0.5em 0.4em;box-sizing: border-box;padding-bottom: 0.4em;background-color: white;}#sk-container-id-2 div.sk-label label {font-family: monospace;font-weight: bold;display: inline-block;line-height: 1.2em;}#sk-container-id-2 div.sk-label-container {text-align: center;}#sk-container-id-2 div.sk-container {/* jupyter's `normalize.less` sets `[hidden] { display: none; }` but bootstrap.min.css set `[hidden] { display: none !important; }` so we also need the `!important` here to be able to override the default hidden behavior on the sphinx rendered scikit-learn.org. See: https://github.com/scikit-learn/scikit-learn/issues/21755 */display: inline-block !important;position: relative;}#sk-container-id-2 div.sk-text-repr-fallback {display: none;}</style><div id=\"sk-container-id-2\" class=\"sk-top-container\"><div class=\"sk-text-repr-fallback\"><pre>XGBClassifier(base_score=0.5, booster=&#x27;dart&#x27;, callbacks=None,\n",
       "              colsample_bylevel=1, colsample_bynode=1, colsample_bytree=0.72,\n",
       "              early_stopping_rounds=5, enable_categorical=False,\n",
       "              eval_metric=&lt;function xgb__amex_metric at 0x7f2fc59dca60&gt;,\n",
       "              feval=&lt;function amex_score at 0x7f2fc59dc9d0&gt;, gamma=0, gpu_id=-1,\n",
       "              grow_policy=&#x27;depthwise&#x27;, importance_type=None,\n",
       "              interaction_constraints=&#x27;&#x27;, learning_rate=0.32, max_bin=256,\n",
       "              max_cat_to_onehot=4, max_delta_step=0, max_depth=7, max_leaves=0,\n",
       "              min_child_weight=1, missing=nan, monotone_constraints=&#x27;()&#x27;,\n",
       "              n_estimators=128, n_jobs=-1, num_parallel_tree=1,\n",
       "              predictor=&#x27;auto&#x27;, random_state=1123, reg_alpha=0, ...)</pre><b>In a Jupyter environment, please rerun this cell to show the HTML representation or trust the notebook. <br />On GitHub, the HTML representation is unable to render, please try loading this page with nbviewer.org.</b></div><div class=\"sk-container\" hidden><div class=\"sk-item\"><div class=\"sk-estimator sk-toggleable\"><input class=\"sk-toggleable__control sk-hidden--visually\" id=\"sk-estimator-id-2\" type=\"checkbox\" checked><label for=\"sk-estimator-id-2\" class=\"sk-toggleable__label sk-toggleable__label-arrow\">XGBClassifier</label><div class=\"sk-toggleable__content\"><pre>XGBClassifier(base_score=0.5, booster=&#x27;dart&#x27;, callbacks=None,\n",
       "              colsample_bylevel=1, colsample_bynode=1, colsample_bytree=0.72,\n",
       "              early_stopping_rounds=5, enable_categorical=False,\n",
       "              eval_metric=&lt;function xgb__amex_metric at 0x7f2fc59dca60&gt;,\n",
       "              feval=&lt;function amex_score at 0x7f2fc59dc9d0&gt;, gamma=0, gpu_id=-1,\n",
       "              grow_policy=&#x27;depthwise&#x27;, importance_type=None,\n",
       "              interaction_constraints=&#x27;&#x27;, learning_rate=0.32, max_bin=256,\n",
       "              max_cat_to_onehot=4, max_delta_step=0, max_depth=7, max_leaves=0,\n",
       "              min_child_weight=1, missing=nan, monotone_constraints=&#x27;()&#x27;,\n",
       "              n_estimators=128, n_jobs=-1, num_parallel_tree=1,\n",
       "              predictor=&#x27;auto&#x27;, random_state=1123, reg_alpha=0, ...)</pre></div></div></div></div></div>"
      ],
      "text/plain": [
       "XGBClassifier(base_score=0.5, booster='dart', callbacks=None,\n",
       "              colsample_bylevel=1, colsample_bynode=1, colsample_bytree=0.72,\n",
       "              early_stopping_rounds=5, enable_categorical=False,\n",
       "              eval_metric=<function xgb__amex_metric at 0x7f2fc59dca60>,\n",
       "              feval=<function amex_score at 0x7f2fc59dc9d0>, gamma=0, gpu_id=-1,\n",
       "              grow_policy='depthwise', importance_type=None,\n",
       "              interaction_constraints='', learning_rate=0.32, max_bin=256,\n",
       "              max_cat_to_onehot=4, max_delta_step=0, max_depth=7, max_leaves=0,\n",
       "              min_child_weight=1, missing=nan, monotone_constraints='()',\n",
       "              n_estimators=128, n_jobs=-1, num_parallel_tree=1,\n",
       "              predictor='auto', random_state=1123, reg_alpha=0, ...)"
      ]
     },
     "execution_count": 26,
     "metadata": {},
     "output_type": "execute_result"
    }
   ],
   "source": [
    "# Fit the classifier to the training set\n",
    "xgb_clf.fit(X_train__preprocessed, y_train, \n",
    "            eval_set=[(X_test__preprocessed, y_test)])"
   ]
  },
  {
   "cell_type": "code",
   "execution_count": 27,
   "metadata": {},
   "outputs": [
    {
     "name": "stdout",
     "output_type": "stream",
     "text": [
      "Train Score: 0.8476493303373844\n",
      "Test Score: 0.7726845273681933\n"
     ]
    }
   ],
   "source": [
    "# Predict the labels of the test set: preds\n",
    "train_preds = xgb_clf.predict_proba(X_train__preprocessed)[:,1]\n",
    "test_preds = xgb_clf.predict_proba(X_test__preprocessed)[:,1]\n",
    "\n",
    "train_score = amex_score(y_train.values, train_preds)\n",
    "test_score = amex_score(y_test.values, test_preds)\n",
    "\n",
    "print(f'Train Score: {train_score}')\n",
    "print(f'Test Score: {test_score}')"
   ]
  },
  {
   "cell_type": "code",
   "execution_count": 48,
   "metadata": {},
   "outputs": [],
   "source": [
    "with open('models/feature_preprocessor.pkl','wb') as f:\n",
    "    pickle.dump(feature_preprocessor, f)\n",
    "\n",
    "with open('models/xgb_clf.pkl','wb') as f:\n",
    "    pickle.dump(xgb_clf, f)"
   ]
  }
 ],
 "metadata": {
  "jupytext": {
   "formats": "ipynb,py"
  },
  "kernelspec": {
   "display_name": "Python 3.9.12 ('base')",
   "language": "python",
   "name": "python3"
  },
  "language_info": {
   "codemirror_mode": {
    "name": "ipython",
    "version": 3
   },
   "file_extension": ".py",
   "mimetype": "text/x-python",
   "name": "python",
   "nbconvert_exporter": "python",
   "pygments_lexer": "ipython3",
   "version": "3.9.12"
  },
  "vscode": {
   "interpreter": {
    "hash": "28ed4e3bfc6dbc0ee6f9216b9beca2c6fff623d080b9c5b8a874eb933f3db8ee"
   }
  }
 },
 "nbformat": 4,
 "nbformat_minor": 2
}
